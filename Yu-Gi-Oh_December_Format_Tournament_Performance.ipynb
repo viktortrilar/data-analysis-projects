{
 "cells": [
  {
   "cell_type": "code",
   "execution_count": null,
   "metadata": {},
   "outputs": [
    {
     "name": "stdout",
     "output_type": "stream",
     "text": [
      "          Event Region      Place             Location            Player Name  \\\n",
      "0      Regional    NaN  1st Place           Hilo Hawai     Aidan Jayke Ah Hee   \n",
      "1      Regional    NaN  2nd Place           Hilo Hawai       Ryan Cade Kuamoo   \n",
      "2      Regional    NaN      Top 4           Hilo Hawai  Austin Jayce H Ah Hee   \n",
      "3      Regional    NaN      Top 4           Hilo Hawai    Daniela Casell Sanz   \n",
      "4      Regional    NaN      Top 8           Hilo Hawai       Hunter Henderson   \n",
      "...         ...    ...        ...                  ...                    ...   \n",
      "12123  Regional     EU      Top 4  simbach deutschland     Jonas Dankesreiter   \n",
      "12124  Regional     EU      Top 8  simbach deutschland         Matthias Fisch   \n",
      "12125  Regional     EU      Top 8  simbach deutschland         Michael Kaindl   \n",
      "12126  Regional     EU      Top 8  simbach deutschland          Julian Truong   \n",
      "12127  Regional     EU      Top 8  simbach deutschland           Milad Ahmadi   \n",
      "\n",
      "           Deck        Engine  \n",
      "0        Ryzeal    Fiendsmith  \n",
      "1        Ryzeal     No Engine  \n",
      "2        Maliss      Kashtira  \n",
      "3        Maliss     No Engine  \n",
      "4       Mermail     No Engine  \n",
      "...         ...           ...  \n",
      "12123    Ryzeal    Fiendsmith  \n",
      "12124    Ryzeal    Fiendsmith  \n",
      "12125   Unknown     No Engine  \n",
      "12126  Kashtira    Fiendsmith  \n",
      "12127  Crystron  Azamina Kash  \n",
      "\n",
      "[1000 rows x 7 columns]\n"
     ]
    }
   ],
   "source": [
    "import pandas as pd\n",
    "\n",
    "data = pd.read_csv('DEC24-25-W1-W9.csv', encoding='ISO-8859-1', delimiter=';', na_values=['', 'NaN'])\n",
    "df = pd.DataFrame(data)\n",
    "df_clean = df.dropna(how='all')\n",
    "print(df_clean)"
   ]
  }
 ],
 "metadata": {
  "kernelspec": {
   "display_name": "base",
   "language": "python",
   "name": "python3"
  },
  "language_info": {
   "codemirror_mode": {
    "name": "ipython",
    "version": 3
   },
   "file_extension": ".py",
   "mimetype": "text/x-python",
   "name": "python",
   "nbconvert_exporter": "python",
   "pygments_lexer": "ipython3",
   "version": "3.12.7"
  }
 },
 "nbformat": 4,
 "nbformat_minor": 2
}
