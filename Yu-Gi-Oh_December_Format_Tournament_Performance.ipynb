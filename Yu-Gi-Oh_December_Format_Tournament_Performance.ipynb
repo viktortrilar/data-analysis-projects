{
 "cells": [
  {
   "cell_type": "code",
   "execution_count": 89,
   "metadata": {},
   "outputs": [],
   "source": [
    "import pandas as pd\n",
    "import matplotlib as plt\n",
    "\n",
    "# Read CSV and specify na_values\n",
    "data = pd.read_csv('DEC24-25-W1-W9.csv', encoding='ISO-8859-1', delimiter=';', na_values=['', 'NaN'], keep_default_na=False)\n",
    "\n",
    "# Create DataFrame\n",
    "df = pd.DataFrame(data)\n",
    "\n",
    "# Replace empty strings with NaN and drop rows where all elements are NaN\n",
    "df_clean = df.replace('', pd.NA).dropna(how='all')\n",
    "\n",
    "# Remove \"place\" from 1st and 2nd\n",
    "df_clean['Place'] = df_clean['Place'].str.replace('1st Place', '1st')\n",
    "df_clean['Place'] = df_clean['Place'].str.replace('2nd Place', '2nd')\n",
    "\n",
    "# Remove \"Unknown\" and \"Deck\" values from Deck types\n",
    "remove_deck = ['Unknown', 'Deck']\n",
    "df_clean = df_clean[~df_clean['Deck'].isin(remove_deck)]\n",
    "\n",
    "\n",
    "# Correction mapping for similar engine names\n",
    "correction = {\n",
    "    'Sky striker': 'Sky Striker',\n",
    "    'Sky Stricker': 'Sky Striker',\n",
    "    'Azamina SE' : 'Azamina',\n",
    "    'Azamina FS' : 'Azamina',\n",
    "    'Azamina Kash': 'Azamina',\n",
    "    'Fiendsmith Kash' : 'Fiendsmith',\n",
    "    'Fiendsmith bystial' : 'Fiendsmith Bystial',\n",
    "    'Fiendmisth' : 'Fiendsmith',\n",
    "    'Sharks' : 'Shark',\n",
    "    'ToyBox' : 'Toy Box',\n",
    "}\n",
    "\n",
    "df_clean['Engine'] = df_clean['Engine'].replace(correction)\n",
    "\n",
    "deck_count = df_clean['Deck'].value_counts()\n",
    "engine_count = df_clean['Engine'].value_counts()\n",
    "\n",
    "#print(deck_count)\n",
    "#print(engine_count)\n",
    "\n",
    "# Print DataFrame\n",
    "#print(df_clean.to_string(index=False))\n",
    "\n",
    "# Save DataFrame to CSV\n",
    "df_clean.to_csv('DEC24-25-W1-W9_clean.csv', index=False)"
   ]
  },
  {
   "cell_type": "code",
   "execution_count": 79,
   "metadata": {},
   "outputs": [
    {
     "name": "stdout",
     "output_type": "stream",
     "text": [
      "Engine\n",
      "Fiendsmith            372\n",
      "No Engine             310\n",
      "Bystial                89\n",
      "Fiendsmith Bystial     45\n",
      "Mitsurugi              42\n",
      "Sky Striker            25\n",
      "Sky striker            21\n",
      "Kashtira               17\n",
      "Azamina                11\n",
      "Fiendsmith Kash        10\n",
      "Azamina FS             10\n",
      "Engine                  8\n",
      "Horus                   5\n",
      "Nemesis                 4\n",
      "Goblin Biker            3\n",
      "Azamina Kash            3\n",
      "Toy Box                 2\n",
      "Sky Stricker            1\n",
      "Runick                  1\n",
      "Danger                  1\n",
      "Shark                   1\n",
      "Fiendsmith bystial      1\n",
      "ToyBox                  1\n",
      "Sharks                  1\n",
      "Tenpai Dragon           1\n",
      "Melodious               1\n",
      "Adventure               1\n",
      "Dogmatika               1\n",
      "Azamina SE              1\n",
      "Fiendmisth              1\n",
      "Swordsoul               1\n",
      "Trap Trix               1\n",
      "Name: count, dtype: int64\n"
     ]
    }
   ],
   "source": [
    "# Read cleaned CSV and create DataFrame\n",
    "data = pd.read_csv('DEC24-25-W1-W9_clean.csv', encoding='ISO-8859-1', delimiter=',', na_values=['', 'NaN'], keep_default_na=False)\n",
    "df = pd.DataFrame(data)\n",
    "\n",
    "deck_count = df['Deck'].value_counts()\n",
    "engine_count = df['Engine'].value_counts()\n",
    "#print(deck_count)\n",
    "print(engine_count)"
   ]
  }
 ],
 "metadata": {
  "kernelspec": {
   "display_name": "base",
   "language": "python",
   "name": "python3"
  },
  "language_info": {
   "codemirror_mode": {
    "name": "ipython",
    "version": 3
   },
   "file_extension": ".py",
   "mimetype": "text/x-python",
   "name": "python",
   "nbconvert_exporter": "python",
   "pygments_lexer": "ipython3",
   "version": "3.12.7"
  }
 },
 "nbformat": 4,
 "nbformat_minor": 2
}
